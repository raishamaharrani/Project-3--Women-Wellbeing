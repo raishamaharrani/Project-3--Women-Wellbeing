{
 "cells": [
  {
   "cell_type": "code",
   "execution_count": 11,
   "metadata": {},
   "outputs": [],
   "source": [
    "import pandas as pd"
   ]
  },
  {
   "cell_type": "code",
   "execution_count": 16,
   "metadata": {},
   "outputs": [
    {
     "name": "stdout",
     "output_type": "stream",
     "text": [
      "average_hours columns: Entity                                                                            object\n",
      "Code                                                                              object\n",
      "Year                                                                               int64\n",
      "Average weekly hours worked (women, 15+) (OECD Labor Force Statistics (2017))    float64\n",
      "dtype: object\n",
      "employment_ratio columns: Entity                                                                  object\n",
      "Code                                                                    object\n",
      "Year                                                                     int64\n",
      "Employment to population ratio, 15+, female (%) (national estimate)    float64\n",
      "dtype: object\n",
      "wage_gap columns: Entity                          object\n",
      "Code                            object\n",
      "Year                             int64\n",
      "Gender wage gap (OECD 2017)    float64\n",
      "dtype: object\n"
     ]
    }
   ],
   "source": [
    "# Load the three datasets\n",
    "average_hours = pd.read_csv('Resources/average-usual-weekly-hours-worked-women-15-years-and-older.csv')\n",
    "employment_ratio = pd.read_csv(\"Resources/female-employment-to-population-ratio.csv\")\n",
    "wage_gap = pd.read_csv(\"Resources/gender-wage-gap-oecd.csv\")\n",
    "\n",
    "# Check the data types of the columns\n",
    "print(\"average_hours columns:\", average_hours.dtypes)\n",
    "print(\"employment_ratio columns:\", employment_ratio.dtypes)\n",
    "print(\"wage_gap columns:\", wage_gap.dtypes)\n",
    "\n",
    "# Merge the three DataFrames into one\\n\",\n",
    "merged_df = pd.merge(average_hours, employment_ratio, on=['Entity', 'Code', 'Year'], how='outer')\n",
    "merged_df = pd.merge(merged_df, wage_gap, on=['Entity', 'Code', 'Year'], how='outer')\n",
    "\n",
    "# Sort the combined dataframe by Entity and Year\\n\",\n",
    "merged_df = merged_df.sort_values(by=['Entity', 'Year'])"
   ]
  }
 ],
 "metadata": {
  "kernelspec": {
   "display_name": "dev",
   "language": "python",
   "name": "python3"
  },
  "language_info": {
   "codemirror_mode": {
    "name": "ipython",
    "version": 3
   },
   "file_extension": ".py",
   "mimetype": "text/x-python",
   "name": "python",
   "nbconvert_exporter": "python",
   "pygments_lexer": "ipython3",
   "version": "3.10.14"
  }
 },
 "nbformat": 4,
 "nbformat_minor": 2
}
