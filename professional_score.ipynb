{
 "cells": [
  {
   "cell_type": "code",
   "execution_count": 14,
   "metadata": {},
   "outputs": [],
   "source": [
    "import pandas as pd\n",
    "import numpy as np\n",
    "from scipy import stats\n",
    "from scipy.special import boxcox1p\n",
    "import pickle\n",
    "from os import path\n",
    "import statsmodels.api as sm\n",
    "import warnings\n",
    "\n",
    "warnings.filterwarnings(\"ignore\")\n",
    "\n",
    "# data Visualization\n",
    "import matplotlib.pyplot as plt\n",
    "from matplotlib.gridspec import GridSpec\n",
    "import seaborn as sns\n",
    "import plotly.express as px \n",
    "from plotnine import ggplot, aes, geom_line, geom_point, facet_wrap, theme\n",
    "import plotly.graph_objects as go\n",
    "# Machine learning algorithms and model evaluation\n",
    "from sklearn.model_selection import train_test_split \n",
    "from sklearn.model_selection import cross_val_score\n",
    "from sklearn.model_selection import KFold\n",
    "from sklearn.neighbors import KNeighborsRegressor\n",
    "from sklearn.svm import SVR\n",
    "from sklearn.feature_selection import RFE\n",
    "from xgboost import XGBRegressor\n",
    "from sklearn.ensemble import RandomForestRegressor\n",
    "from sklearn.linear_model import LinearRegression\n",
    "from sklearn.preprocessing import MinMaxScaler\n",
    "from sklearn.metrics import mean_absolute_error, mean_squared_error, r2_score\n",
    "# from skforecast.model_selection import backtesting_forecaster\n",
    "from skforecast.model_selection import grid_search_forecaster\n",
    "from skforecast.model_selection import bayesian_search_forecaster\n",
    "from lightgbm import LGBMRegressor\n",
    "# Encoding\n",
    "from sklearn.preprocessing import LabelEncoder\n",
    "from sklearn.preprocessing import OneHotEncoder\n"
   ]
  },
  {
   "cell_type": "markdown",
   "metadata": {},
   "source": [
    "1. Data Preprocessing:\n",
    "Load the datasets\n"
   ]
  },
  {
   "cell_type": "code",
   "execution_count": 15,
   "metadata": {},
   "outputs": [],
   "source": [
    "# Load the three datasets\n",
    "average_hours = pd.read_csv('Resources/average-usual-weekly-hours-worked-women-15-years-and-older.csv')\n",
    "employment_ratio = pd.read_csv(\"Resources/female-employment-to-population-ratio.csv\")\n",
    "wage_gap = pd.read_csv(\"Resources/gender-wage-gap-oecd.csv\")\n",
    "percapita_labor = pd.read_csv(\"Resources/female-labor-force-participation-rates-by-national-per-capita-income.csv\")\n",
    "school_years = pd.read_csv(\"Resources/mean-years-of-schooling-female.csv\")\n",
    "maternity_leave = pd.read_csv(\"Resources/paid-leave-at-least-14-weeks-mothers.csv\")\n",
    "labor_sector = pd.read_csv(\"Resources/share-of-female-workers-by-sector.csv\")\n"
   ]
  },
  {
   "cell_type": "code",
   "execution_count": 16,
   "metadata": {},
   "outputs": [
    {
     "name": "stdout",
     "output_type": "stream",
     "text": [
      "Shape of average_hours DataFrame: (971, 4)\n",
      "Shape of employment_ratio DataFrame: (3919, 4)\n",
      "Shape of wage_gap DataFrame: (636, 4)\n",
      "Shape of percapita_labor DataFrame: (7185, 6)\n",
      "Shape of school_years DataFrame: (1502, 4)\n",
      "Shape of maternity_leave DataFrame: (10206, 4)\n",
      "Shape of labor_sector DataFrame: (2781, 6)\n"
     ]
    }
   ],
   "source": [
    "print(f'Shape of average_hours DataFrame: {average_hours.shape}')\n",
    "print(f'Shape of employment_ratio DataFrame: {employment_ratio.shape}')\n",
    "print(f'Shape of wage_gap DataFrame: {wage_gap.shape}')\n",
    "print(f'Shape of percapita_labor DataFrame: {percapita_labor.shape}')\n",
    "print(f'Shape of school_years DataFrame: {school_years.shape}')\n",
    "print(f'Shape of maternity_leave DataFrame: {maternity_leave.shape}')\n",
    "print(f'Shape of labor_sector DataFrame: {labor_sector.shape}')"
   ]
  },
  {
   "cell_type": "markdown",
   "metadata": {},
   "source": [
    "1. Data Preprocessing: Rename Columns to make it shorter"
   ]
  },
  {
   "cell_type": "code",
   "execution_count": 17,
   "metadata": {},
   "outputs": [],
   "source": [
    "average_hours = average_hours.rename(columns={'Average weekly hours worked (women, 15+) (OECD Labor Force Statistics (2017))': 'Avg_Hours_Worked'})\n",
    "employment_ratio = employment_ratio.rename(columns={'Employment to population ratio, 15+, female (%) (national estimate)': 'Emp_Pop_Ratio'})\n",
    "wage_gap = wage_gap.rename(columns={'Gender wage gap (OECD 2017)': 'Gender_Wage_Gap'})\n",
    "percapita_labor = percapita_labor.rename(columns={'Labor force participation rate, female (% of female population ages 15+) (modeled ILO estimate)': 'Labor_Force'})\n",
    "school_years = school_years.rename(columns={'Mean years of schooling (ISCED 1 or higher), population 25+ years, female': 'School_Years_Mean'})\n",
    "maternity_leave = maternity_leave.rename(columns={'Paid leave of at least 14 weeks available to mothers (1=yes; 0=no)': 'Paid_Leave'})\n",
    "labor_sector = labor_sector.rename(columns={'Female share of employment in agriculture (%)': 'Argiculture','Female share of employment in industry (%)': 'Industry','Female share of employment in services (%': 'Services'})\n"
   ]
  },
  {
   "cell_type": "code",
   "execution_count": 18,
   "metadata": {},
   "outputs": [
    {
     "name": "stdout",
     "output_type": "stream",
     "text": [
      "Entity           0\n",
      "Code             0\n",
      "Year             0\n",
      "Emp_Pop_Ratio    0\n",
      "dtype: int64\n"
     ]
    }
   ],
   "source": [
    "#Drop Null Values for female-employment-to-population-ratio.csv\n",
    "employment_ratio.dropna(inplace=True)\n",
    "print(employment_ratio.isnull().sum())"
   ]
  },
  {
   "cell_type": "code",
   "execution_count": 19,
   "metadata": {},
   "outputs": [
    {
     "name": "stdout",
     "output_type": "stream",
     "text": [
      "Entity              0\n",
      "Code                0\n",
      "Year                0\n",
      "Avg_Hours_Worked    0\n",
      "dtype: int64\n"
     ]
    }
   ],
   "source": [
    "#Drop Null Values for average-usual-weekly-hours-worked-women-15-years-and-older.csv\n",
    "average_hours.dropna(inplace=True)\n",
    "print(average_hours.isnull().sum())"
   ]
  },
  {
   "cell_type": "code",
   "execution_count": 27,
   "metadata": {},
   "outputs": [
    {
     "name": "stdout",
     "output_type": "stream",
     "text": [
      "Entity                                                 0\n",
      "Code                                                   0\n",
      "Year                                                   0\n",
      "Labor_Force                                            0\n",
      "GDP per capita, PPP (constant 2017 international $)    0\n",
      "Continent                                              0\n",
      "dtype: int64\n"
     ]
    }
   ],
   "source": [
    "percapita_labor.dropna(inplace=True)\n",
    "print(percapita_labor.isnull().sum())"
   ]
  },
  {
   "cell_type": "code",
   "execution_count": 28,
   "metadata": {},
   "outputs": [
    {
     "name": "stdout",
     "output_type": "stream",
     "text": [
      "(10497, 14)\n"
     ]
    }
   ],
   "source": [
    "# Merge the datasets\n",
    "merged_df= average_hours.merge(employment_ratio, on=['Entity', 'Code', 'Year'], how='outer')\n",
    "merged_df= merged_df .merge(wage_gap, on=['Entity', 'Code', 'Year'], how='outer')\n",
    "merged_df= merged_df .merge(percapita_labor, on=['Entity', 'Code', 'Year'], how='outer')\n",
    "merged_df= merged_df .merge(school_years, on=['Entity', 'Code', 'Year'], how='outer')\n",
    "merged_df= merged_df .merge(maternity_leave, on=['Entity', 'Code', 'Year'], how='outer')\n",
    "merged_df= merged_df .merge(labor_sector, on=['Entity', 'Code', 'Year'], how='outer')\n",
    "\n",
    "# Check the result\n",
    "print(merged_df.shape)"
   ]
  },
  {
   "cell_type": "code",
   "execution_count": 29,
   "metadata": {},
   "outputs": [],
   "source": [
    "#Drop colum \"Continent\"\n",
    "merged_df = merged_df.drop(\"Continent\", axis=1)"
   ]
  },
  {
   "cell_type": "markdown",
   "metadata": {},
   "source": [
    "1. Data Preprocessing: Check datatypes for each of the dataset columns."
   ]
  },
  {
   "cell_type": "code",
   "execution_count": 30,
   "metadata": {},
   "outputs": [
    {
     "name": "stdout",
     "output_type": "stream",
     "text": [
      "Entity                                                     0\n",
      "Code                                                      29\n",
      "Year                                                       0\n",
      "Avg_Hours_Worked                                        9609\n",
      "Emp_Pop_Ratio                                           6813\n",
      "Gender_Wage_Gap                                         9861\n",
      "Labor_Force                                            10322\n",
      "GDP per capita, PPP (constant 2017 international $)    10322\n",
      "School_Years_Mean                                       8995\n",
      "Paid_Leave                                               291\n",
      "Argiculture                                             7772\n",
      "Industry                                                7750\n",
      "Female share of employment in services (%)              7752\n",
      "dtype: int64\n"
     ]
    }
   ],
   "source": [
    "# Check for null values\n",
    "print(merged_df.isnull().sum())"
   ]
  },
  {
   "cell_type": "code",
   "execution_count": 23,
   "metadata": {},
   "outputs": [
    {
     "name": "stdout",
     "output_type": "stream",
     "text": [
      "Number of duplicates: 0\n"
     ]
    }
   ],
   "source": [
    "# Check for duplicates\n",
    "duplicates = merged_df.duplicated().sum()\n",
    "print(f\"Number of duplicates: {duplicates}\")"
   ]
  },
  {
   "cell_type": "code",
   "execution_count": 24,
   "metadata": {},
   "outputs": [
    {
     "name": "stdout",
     "output_type": "stream",
     "text": [
      "Entity                                                  object\n",
      "Code                                                    object\n",
      "Year                                                     int64\n",
      "Avg_Hours_Worked                                       float64\n",
      "Emp_Pop_Ratio                                          float64\n",
      "Gender_Wage_Gap                                        float64\n",
      "Labor_Force                                            float64\n",
      "GDP per capita, PPP (constant 2017 international $)    float64\n",
      "School_Years_Mean                                      float64\n",
      "Paid_Leave                                             float64\n",
      "Argiculture                                            float64\n",
      "Industry                                               float64\n",
      "Female share of employment in services (%)             float64\n",
      "dtype: object\n"
     ]
    }
   ],
   "source": [
    "# Check the data types of each column\n",
    "print(merged_df.dtypes)\n"
   ]
  },
  {
   "cell_type": "code",
   "execution_count": 25,
   "metadata": {},
   "outputs": [
    {
     "name": "stdout",
     "output_type": "stream",
     "text": [
      "               Year  Avg_Hours_Worked  Emp_Pop_Ratio  Gender_Wage_Gap  \\\n",
      "count  11400.000000        888.000000    3684.000000       636.000000   \n",
      "mean    1997.455263         35.485752      44.682533        19.385535   \n",
      "std       15.469445          4.047832      14.474665        10.053530   \n",
      "min     1960.000000         24.038079       2.500000         0.000000   \n",
      "25%     1984.000000         32.523503      36.704750        13.200000   \n",
      "50%     1998.000000         35.616393      46.044000        17.900000   \n",
      "75%     2011.000000         38.548941      53.077250        23.400000   \n",
      "max     2023.000000         44.813507      94.500000        52.800000   \n",
      "\n",
      "       Labor_Force  GDP per capita, PPP (constant 2017 international $)  \\\n",
      "count  6431.000000                                        6562.000000     \n",
      "mean     49.584312                                       18307.128922     \n",
      "std      15.370705                                       20344.959620     \n",
      "min       4.948000                                         430.413540     \n",
      "25%      41.756500                                        3726.793100     \n",
      "50%      51.241000                                       10638.246000     \n",
      "75%      59.298500                                       26873.173500     \n",
      "max      89.974000                                      157600.640000     \n",
      "\n",
      "       School_Years_Mean    Paid_Leave  Argiculture     Industry  \\\n",
      "count        1502.000000  10206.000000  2725.000000  2747.000000   \n",
      "mean            8.573793      0.410739    28.176672    24.672861   \n",
      "std             3.501633      0.491992    13.509575     9.197976   \n",
      "min             0.036790      0.000000     0.000000     0.690000   \n",
      "25%             6.278517      0.000000    18.930000    19.145000   \n",
      "50%             9.123365      0.000000    28.070000    23.990000   \n",
      "75%            11.417750      1.000000    38.640000    30.780000   \n",
      "max            14.136800      1.000000    66.670000    74.050000   \n",
      "\n",
      "       Female share of employment in services (%)  \n",
      "count                                 2745.000000  \n",
      "mean                                    46.671501  \n",
      "std                                     11.577067  \n",
      "min                                      4.400000  \n",
      "25%                                     43.290000  \n",
      "50%                                     49.970000  \n",
      "75%                                     54.070000  \n",
      "max                                     78.420000  \n"
     ]
    }
   ],
   "source": [
    "# Perform some basic EDA\n",
    "print(merged_df.describe())\n"
   ]
  },
  {
   "cell_type": "code",
   "execution_count": 26,
   "metadata": {},
   "outputs": [
    {
     "name": "stdout",
     "output_type": "stream",
     "text": [
      "Outliers in column Year: 0\n",
      "Outliers in column Avg_Hours_Worked: 0\n",
      "Outliers in column Emp_Pop_Ratio: 152\n",
      "Outliers in column Gender_Wage_Gap: 44\n",
      "Outliers in column Labor_Force: 210\n",
      "Outliers in column GDP per capita, PPP (constant 2017 international $): 269\n",
      "Outliers in column School_Years_Mean: 0\n",
      "Outliers in column Paid_Leave: 0\n",
      "Outliers in column Argiculture: 0\n",
      "Outliers in column Industry: 61\n",
      "Outliers in column Female share of employment in services (%): 239\n"
     ]
    }
   ],
   "source": [
    "# Check for outliers in numerical columns\n",
    "numerical_cols = merged_df.select_dtypes(include=[np.number]).columns\n",
    "for col in numerical_cols:\n",
    "    Q1 = merged_df[col].quantile(0.25)\n",
    "    Q3 = merged_df[col].quantile(0.75)\n",
    "    IQR = Q3 - Q1\n",
    "    outliers = merged_df[(merged_df[col] < Q1 - 1.5 * IQR) | (merged_df[col] > Q3 + 1.5 * IQR)]\n",
    "    print(f\"Outliers in column {col}: {outliers.shape[0]}\")\n"
   ]
  }
 ],
 "metadata": {
  "kernelspec": {
   "display_name": "dev",
   "language": "python",
   "name": "python3"
  },
  "language_info": {
   "codemirror_mode": {
    "name": "ipython",
    "version": 3
   },
   "file_extension": ".py",
   "mimetype": "text/x-python",
   "name": "python",
   "nbconvert_exporter": "python",
   "pygments_lexer": "ipython3",
   "version": "3.10.14"
  }
 },
 "nbformat": 4,
 "nbformat_minor": 2
}
